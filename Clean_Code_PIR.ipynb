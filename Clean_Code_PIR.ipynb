{
  "nbformat": 4,
  "nbformat_minor": 0,
  "metadata": {
    "colab": {
      "name": "ProgressiveImageResizing.ipynb",
      "version": "0.3.2",
      "provenance": [],
      "collapsed_sections": []
    },
    "kernelspec": {
      "name": "python3",
      "display_name": "Python 3"
    },
    "accelerator": "GPU"
  },
  "cells": [
    {
      "cell_type": "markdown",
      "metadata": {
        "id": "fvPZqhWRqrfA",
        "colab_type": "text"
      },
      "source": [
        "**Download the dataset and annotations**\n",
        "\n",
        "Download all the images and annotations for cars dataset from [ this link](https://ai.stanford.edu/~jkrause/cars/car_dataset.html)."
      ]
    },
    {
      "cell_type": "code",
      "metadata": {
        "id": "cOJHktzUhdgT",
        "colab_type": "code",
        "outputId": "cd76c543-c962-48c8-9b4d-e98a19517960",
        "colab": {
          "base_uri": "https://localhost:8080/",
          "height": 391
        }
      },
      "source": [
        "!wget http://imagenet.stanford.edu/internal/car196/car_ims.tgz\n",
        "!wget http://imagenet.stanford.edu/internal/car196/cars_annos.mat"
      ],
      "execution_count": 1,
      "outputs": [
        {
          "output_type": "stream",
          "text": [
            "--2019-06-18 09:16:58--  http://imagenet.stanford.edu/internal/car196/car_ims.tgz\n",
            "Resolving imagenet.stanford.edu (imagenet.stanford.edu)... 171.64.68.16\n",
            "Connecting to imagenet.stanford.edu (imagenet.stanford.edu)|171.64.68.16|:80... connected.\n",
            "HTTP request sent, awaiting response... 200 OK\n",
            "Length: 1956628579 (1.8G) [application/x-gzip]\n",
            "Saving to: ‘car_ims.tgz.1’\n",
            "\n",
            "car_ims.tgz.1       100%[===================>]   1.82G  2.66MB/s    in 3m 52s  \n",
            "\n",
            "2019-06-18 09:20:50 (8.04 MB/s) - ‘car_ims.tgz.1’ saved [1956628579/1956628579]\n",
            "\n",
            "--2019-06-18 09:20:51--  http://imagenet.stanford.edu/internal/car196/cars_annos.mat\n",
            "Resolving imagenet.stanford.edu (imagenet.stanford.edu)... 171.64.68.16\n",
            "Connecting to imagenet.stanford.edu (imagenet.stanford.edu)|171.64.68.16|:80... connected.\n",
            "HTTP request sent, awaiting response... 200 OK\n",
            "Length: 394471 (385K) [text/plain]\n",
            "Saving to: ‘cars_annos.mat.1’\n",
            "\n",
            "cars_annos.mat.1    100%[===================>] 385.23K   785KB/s    in 0.5s    \n",
            "\n",
            "2019-06-18 09:20:52 (785 KB/s) - ‘cars_annos.mat.1’ saved [394471/394471]\n",
            "\n"
          ],
          "name": "stdout"
        }
      ]
    },
    {
      "cell_type": "markdown",
      "metadata": {
        "id": "zrAGq-PIq2ww",
        "colab_type": "text"
      },
      "source": [
        "**Unpack the cars dataset**"
      ]
    },
    {
      "cell_type": "code",
      "metadata": {
        "id": "QvQLJwY2A_9T",
        "colab_type": "code",
        "outputId": "6a3d8044-d2b0-4af6-e10c-61b720e43c57",
        "colab": {
          "base_uri": "https://localhost:8080/",
          "height": 51
        }
      },
      "source": [
        "import tarfile\n",
        "\n",
        "print(\"Extracting the files...\")\n",
        "tf = tarfile.open(\"car_ims.tgz\")\n",
        "tf.extractall(\"Cars_Images/\")\n",
        "print(\"Finished...\")"
      ],
      "execution_count": 2,
      "outputs": [
        {
          "output_type": "stream",
          "text": [
            "Extracting the files...\n",
            "Finished...\n"
          ],
          "name": "stdout"
        }
      ]
    },
    {
      "cell_type": "markdown",
      "metadata": {
        "id": "kFkFvhsRrn_e",
        "colab_type": "text"
      },
      "source": [
        "**Import required libraries to create dataset**"
      ]
    },
    {
      "cell_type": "code",
      "metadata": {
        "id": "CcMKCOYCCqhE",
        "colab_type": "code",
        "colab": {}
      },
      "source": [
        "from matplotlib import pyplot as plt\n",
        "import pandas as pd\n",
        "import numpy as np\n",
        "import cv2 as cv\n",
        "import os\n",
        "from fastai.vision import *\n",
        "from fastai.callbacks import SaveModelCallback"
      ],
      "execution_count": 0,
      "outputs": []
    },
    {
      "cell_type": "markdown",
      "metadata": {
        "id": "Nm1htMmmt9cw",
        "colab_type": "text"
      },
      "source": [
        "**Create data**\n",
        "\n",
        "This will separate all the data into train and test folder.\n",
        "\n",
        "Also crop the images on bounding boxes given in the annotation file."
      ]
    },
    {
      "cell_type": "code",
      "metadata": {
        "id": "qkP5sR-GDCtq",
        "colab_type": "code",
        "colab": {}
      },
      "source": [
        "mat = scipy.io.loadmat(\"cars_annos.mat\")\n",
        "annot = mat['annotations'][0]\n",
        "\n",
        "x1 = []\n",
        "y1 = []\n",
        "x2 = []\n",
        "y2 = []\n",
        "\n",
        "for i in range(len(annot)):\n",
        "  \n",
        "  x1.append(int(annot[i][1]))\n",
        "  x2.append(int(annot[i][3]))\n",
        "  y1.append(int(annot[i][2]))\n",
        "  y2.append(int(annot[i][4]))\n",
        "\n",
        "try:\n",
        "  os.mkdir(\"data\")\n",
        "  os.mkdir(\"data/train\")\n",
        "  os.mkdir(\"data/test\")\n",
        "except FileExistsError:\n",
        "  pass\n",
        "\n",
        "train_img_name = []\n",
        "train_lbl = []\n",
        "test_img_name = []\n",
        "test_lbl = []\n",
        "\n",
        "for i in range(len(annot)):\n",
        "  \n",
        "  image_name = annot[i][0][0].split(\"/\")[1]\n",
        "  label = int(annot[i][5])\n",
        "  \n",
        "  img = cv.imread(\"Cars_Images/car_ims/\"+image_name)\n",
        "  \n",
        "  x_1 = x1[i]\n",
        "  y_1 = y1[i]\n",
        "  x_2 = x2[i]\n",
        "  y_2 = y2[i]\n",
        "  \n",
        "  new_img = img[y_1:y_2, x_1:x_2]\n",
        "  \n",
        "  flag = int(annot[i][6])\n",
        "  \n",
        "  if flag == 0:\n",
        "    cv.imwrite(\"data/train/\"+image_name, new_img)\n",
        "    train_img_name.append(image_name)\n",
        "    train_lbl.append(label)\n",
        "  else:\n",
        "    cv.imwrite(\"data/test/\"+image_name, new_img)\n",
        "    test_img_name.append(image_name)\n",
        "    test_lbl.append(label)\n",
        "    \n",
        "train_csv = pd.DataFrame({'image_names':train_img_name, 'labels':train_lbl})\n",
        "test_csv = pd.DataFrame({'image_names':test_img_name, 'labels':test_lbl})\n",
        "\n",
        "train_csv.to_csv(\"data/train.csv\", index=False)"
      ],
      "execution_count": 0,
      "outputs": []
    },
    {
      "cell_type": "markdown",
      "metadata": {
        "id": "8FzN34r3Idc7",
        "colab_type": "text"
      },
      "source": [
        "**Helper Function**\n",
        "\n",
        "get_data(size) --> This will create ImageDataBunch of the given size\n",
        "\n",
        "train_model(size, i) --> performs couples of operation neccessary to train the classifier"
      ]
    },
    {
      "cell_type": "code",
      "metadata": {
        "id": "abnTl9DZnp6_",
        "colab_type": "code",
        "colab": {}
      },
      "source": [
        "def get_data(size):\n",
        "  \n",
        "  \"\"\" Creates ImageDataBunch\n",
        "  \"\"\"\n",
        "  \n",
        "  data = ImageDataBunch.from_csv(path=\"data/\", folder=\"train\",\n",
        "                              csv_labels=\"train.csv\", test=\"test\",\n",
        "                              ds_tfms=get_transforms(), size=size, bs=32)\n",
        "  data.normalize(imagenet_stats)\n",
        "  return data"
      ],
      "execution_count": 0,
      "outputs": []
    },
    {
      "cell_type": "code",
      "metadata": {
        "id": "USlgTKs5QsNT",
        "colab_type": "code",
        "colab": {}
      },
      "source": [
        "def train_model(size, i):\n",
        "  \n",
        "  \"\"\" Training procedure\n",
        "  \"\"\"\n",
        "  \n",
        "  learn_50 = cnn_learner(get_data(size), models.resnet50, metrics=[error_rate, accuracy]).load('resnet50_'+str(size))\n",
        "  learn_50.fit_one_cycle(5*i)\n",
        "  learn_50.lr_find()\n",
        "  learn_50.recorder.plot()\n",
        "  learn_50.unfreeze()\n",
        "  learn_50.fit_one_cycle(2*i)\n",
        "  learn_50.save('resnet50_'+str(size))"
      ],
      "execution_count": 0,
      "outputs": []
    },
    {
      "cell_type": "markdown",
      "metadata": {
        "id": "0BfQconWTE1B",
        "colab_type": "text"
      },
      "source": [
        "**Training the model**\n",
        "\n",
        "first with 64x64 image size, then increasing the image size on top of the previous image size upto 512x512."
      ]
    },
    {
      "cell_type": "code",
      "metadata": {
        "id": "ob4sZ_mNZ4Sl",
        "colab_type": "code",
        "colab": {}
      },
      "source": [
        "image_sizes = [64, 128, 256, 512]"
      ],
      "execution_count": 0,
      "outputs": []
    },
    {
      "cell_type": "code",
      "metadata": {
        "id": "bxbPp_U-kYmW",
        "colab_type": "code",
        "colab": {}
      },
      "source": [
        "for i, image_size in enumerate(image_sizes):\n",
        "  \n",
        "  print(\"Training model for image_size --> \", image_size)\n",
        "  \n",
        "  if i == 0:\n",
        "    learn_50 = cnn_learner(get_data(image_size), models.resnet50, metrics=[error_rate, accuracy])\n",
        "    learn_50.save(\"resnet50_\"+str(image_size))\n",
        "    train_model(image_size, i+1)\n",
        "  else:\n",
        "    learn_50 = cnn_learner(get_data(image_size), models.resnet50, metrics=[error_rate, accuracy]).load('resnet50_'+str(image_sizes[i-1]))\n",
        "    learn_50.save(\"resnet50_\"+str(image_size))\n",
        "    train_model(image_size, i+1)"
      ],
      "execution_count": 0,
      "outputs": []
    },
    {
      "cell_type": "code",
      "metadata": {
        "id": "XLDcdK0TbIFc",
        "colab_type": "code",
        "colab": {}
      },
      "source": [
        "for i, image_size in enumerate(image_sizes):\n",
        "  \n",
        "  print(\"Training model for image_size --> \", image_size)\n",
        "  \n",
        "  if i == 0:\n",
        "    pass\n",
        "  else:\n",
        "    name = \"best_\"+str(image_size)\n",
        "    learn_50 = cnn_learner(get_data(image_size), models.resnet50, metrics=[error_rate, accuracy],\n",
        "                           callbacks=[SaveModelCallback(learn_50, every='improvement',\n",
        "                                                        monitor='accuracy', name=name)]).load('resnet50_'+str(image_sizes[i-1]))\n",
        "    learn_50.fit_one_cycle(10)"
      ],
      "execution_count": 0,
      "outputs": []
    },
    {
      "cell_type": "code",
      "metadata": {
        "id": "wU5nHB4rLXyL",
        "colab_type": "code",
        "colab": {}
      },
      "source": [
        "learn_50.load('best_512')\n",
        "log_preds, test_labels = learn_50.get_preds(ds_type=DatasetType.Test)"
      ],
      "execution_count": 0,
      "outputs": []
    },
    {
      "cell_type": "markdown",
      "metadata": {
        "id": "8aiLh2o5Nlug",
        "colab_type": "text"
      },
      "source": [
        "**Prediction & Confidence for the test dataset**"
      ]
    },
    {
      "cell_type": "code",
      "metadata": {
        "id": "uTsb4u6nLsLu",
        "colab_type": "code",
        "colab": {}
      },
      "source": [
        "preds = []\n",
        "conf = []\n",
        "classes = np.arange(1, 197)\n",
        "\n",
        "for log_pred in log_preds:\n",
        "  \n",
        "  log_pred = to_np(log_pred)\n",
        "  val = np.argmax(log_pred)\n",
        "  preds.append(classes[val])\n",
        "  conf.append(log_pred[val])"
      ],
      "execution_count": 0,
      "outputs": []
    },
    {
      "cell_type": "markdown",
      "metadata": {
        "id": "DRyjEta63IF7",
        "colab_type": "text"
      },
      "source": [
        "**Function to get prediction on single image**\n",
        "\n",
        "our model --> learn_50.load(\"best_512\")"
      ]
    },
    {
      "cell_type": "code",
      "metadata": {
        "id": "MygUbsuSLStY",
        "colab_type": "code",
        "colab": {}
      },
      "source": [
        "def predict_single_img(model, img_path):\n",
        "  \n",
        "  \"\"\" img_path --> (String) Path to the image\n",
        "      model --> Fastai model\n",
        "  \"\"\"\n",
        "  \n",
        "  try:\n",
        "    img = open_image(img_path)\n",
        "    x, y, z = model.predict(img)\n",
        "    classes = np.arange(1, 197)\n",
        "    z = to_np(z)\n",
        "    val = np.argmax(z)\n",
        "    print(\"Image Class --> \", classes[val])\n",
        "    print(\"Confidence --> \", z[val])\n",
        "  except FileNotFoundError:\n",
        "    print(\"File not found\")"
      ],
      "execution_count": 0,
      "outputs": []
    }
  ]
}