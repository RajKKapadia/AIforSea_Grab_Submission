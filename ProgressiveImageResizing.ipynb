{
  "nbformat": 4,
  "nbformat_minor": 0,
  "metadata": {
    "colab": {
      "name": "ProgressiveImageResizing.ipynb",
      "version": "0.3.2",
      "provenance": [],
      "collapsed_sections": []
    },
    "kernelspec": {
      "name": "python3",
      "display_name": "Python 3"
    },
    "accelerator": "GPU"
  },
  "cells": [
    {
      "cell_type": "markdown",
      "metadata": {
        "id": "fvPZqhWRqrfA",
        "colab_type": "text"
      },
      "source": [
        "**Download the dataset and annotations**\n",
        "\n",
        "Download all the images and annotations for cars dataset from [ this link](https://ai.stanford.edu/~jkrause/cars/car_dataset.html)."
      ]
    },
    {
      "cell_type": "code",
      "metadata": {
        "id": "cOJHktzUhdgT",
        "colab_type": "code",
        "outputId": "00a02321-0c8a-4684-8e8d-502aeb1ef1a8",
        "colab": {
          "base_uri": "https://localhost:8080/",
          "height": 391
        }
      },
      "source": [
        "!wget http://imagenet.stanford.edu/internal/car196/car_ims.tgz\n",
        "!wget http://imagenet.stanford.edu/internal/car196/cars_annos.mat"
      ],
      "execution_count": 2,
      "outputs": [
        {
          "output_type": "stream",
          "text": [
            "--2019-06-17 15:46:28--  http://imagenet.stanford.edu/internal/car196/car_ims.tgz\n",
            "Resolving imagenet.stanford.edu (imagenet.stanford.edu)... 171.64.68.16\n",
            "Connecting to imagenet.stanford.edu (imagenet.stanford.edu)|171.64.68.16|:80... connected.\n",
            "HTTP request sent, awaiting response... 200 OK\n",
            "Length: 1956628579 (1.8G) [application/x-gzip]\n",
            "Saving to: ‘car_ims.tgz’\n",
            "\n",
            "car_ims.tgz         100%[===================>]   1.82G  51.7MB/s    in 47s     \n",
            "\n",
            "2019-06-17 15:47:15 (39.6 MB/s) - ‘car_ims.tgz’ saved [1956628579/1956628579]\n",
            "\n",
            "--2019-06-17 15:47:17--  http://imagenet.stanford.edu/internal/car196/cars_annos.mat\n",
            "Resolving imagenet.stanford.edu (imagenet.stanford.edu)... 171.64.68.16\n",
            "Connecting to imagenet.stanford.edu (imagenet.stanford.edu)|171.64.68.16|:80... connected.\n",
            "HTTP request sent, awaiting response... 200 OK\n",
            "Length: 394471 (385K) [text/plain]\n",
            "Saving to: ‘cars_annos.mat’\n",
            "\n",
            "cars_annos.mat      100%[===================>] 385.23K  1.38MB/s    in 0.3s    \n",
            "\n",
            "2019-06-17 15:47:17 (1.38 MB/s) - ‘cars_annos.mat’ saved [394471/394471]\n",
            "\n"
          ],
          "name": "stdout"
        }
      ]
    },
    {
      "cell_type": "markdown",
      "metadata": {
        "id": "zrAGq-PIq2ww",
        "colab_type": "text"
      },
      "source": [
        "**Unpack the cars dataset**"
      ]
    },
    {
      "cell_type": "code",
      "metadata": {
        "id": "QvQLJwY2A_9T",
        "colab_type": "code",
        "outputId": "87f07654-93a0-4851-da74-cdcb0acf9c87",
        "colab": {
          "base_uri": "https://localhost:8080/",
          "height": 51
        }
      },
      "source": [
        "import tarfile\n",
        "\n",
        "print(\"Extracting the files...\")\n",
        "tf = tarfile.open(\"car_ims.tgz\")\n",
        "tf.extractall(\"Cars_Images/\")\n",
        "print(\"Finished...\")"
      ],
      "execution_count": 3,
      "outputs": [
        {
          "output_type": "stream",
          "text": [
            "Extracting the files...\n",
            "Finished...\n"
          ],
          "name": "stdout"
        }
      ]
    },
    {
      "cell_type": "markdown",
      "metadata": {
        "id": "kFkFvhsRrn_e",
        "colab_type": "text"
      },
      "source": [
        "**Import required libraries to create dataset**"
      ]
    },
    {
      "cell_type": "code",
      "metadata": {
        "id": "CcMKCOYCCqhE",
        "colab_type": "code",
        "colab": {}
      },
      "source": [
        "from matplotlib import pyplot as plt\n",
        "\n",
        "from scipy import io\n",
        "\n",
        "import pandas as pd\n",
        "import numpy as np\n",
        "\n",
        "import cv2 as cv\n",
        "\n",
        "import os\n",
        "\n",
        "from fastai.vision import *\n",
        "from fastai.callbacks import SaveModelCallback"
      ],
      "execution_count": 0,
      "outputs": []
    },
    {
      "cell_type": "markdown",
      "metadata": {
        "id": "Nm1htMmmt9cw",
        "colab_type": "text"
      },
      "source": [
        "**Create data**\n",
        "\n",
        "This will separate all the data into train and test folder.\n",
        "\n",
        "Also crop the images on bounding boxes given in the annotation file."
      ]
    },
    {
      "cell_type": "code",
      "metadata": {
        "id": "qkP5sR-GDCtq",
        "colab_type": "code",
        "colab": {}
      },
      "source": [
        "mat = io.loadmat(\"cars_annos.mat\")\n",
        "annot = mat['annotations'][0]\n",
        "\n",
        "x1 = []\n",
        "y1 = []\n",
        "x2 = []\n",
        "y2 = []\n",
        "\n",
        "for i in range(len(annot)):\n",
        "  \n",
        "  x1.append(int(annot[i][1]))\n",
        "  x2.append(int(annot[i][3]))\n",
        "  y1.append(int(annot[i][2]))\n",
        "  y2.append(int(annot[i][4]))\n",
        "\n",
        "try:\n",
        "  os.mkdir(\"data\")\n",
        "  os.mkdir(\"data/train\")\n",
        "  os.mkdir(\"data/test\")\n",
        "except FileExistsError:\n",
        "  pass\n",
        "\n",
        "train_img_name = []\n",
        "train_lbl = []\n",
        "test_img_name = []\n",
        "test_lbl = []\n",
        "\n",
        "for i in range(len(annot)):\n",
        "  \n",
        "  image_name = annot[i][0][0].split(\"/\")[1]\n",
        "  label = int(annot[i][5])\n",
        "  \n",
        "  img = cv.imread(\"Cars_Images/car_ims/\"+image_name)\n",
        "  \n",
        "  x_1 = x1[i]\n",
        "  y_1 = y1[i]\n",
        "  x_2 = x2[i]\n",
        "  y_2 = y2[i]\n",
        "  \n",
        "  new_img = img[y_1:y_2, x_1:x_2]\n",
        "  \n",
        "  flag = int(annot[i][6])\n",
        "  \n",
        "  if flag == 0:\n",
        "    cv.imwrite(\"data/train/\"+image_name, new_img)\n",
        "    train_img_name.append(image_name)\n",
        "    train_lbl.append(label)\n",
        "  else:\n",
        "    cv.imwrite(\"data/test/\"+image_name, new_img)\n",
        "    test_img_name.append(image_name)\n",
        "    test_lbl.append(label)\n",
        "    \n",
        "train_csv = pd.DataFrame({'image_names':train_img_name, 'labels':train_lbl})\n",
        "test_csv = pd.DataFrame({'image_names':test_img_name, 'labels':test_lbl})\n",
        "\n",
        "train_csv.to_csv(\"data/train.csv\", index=False)"
      ],
      "execution_count": 0,
      "outputs": []
    },
    {
      "cell_type": "markdown",
      "metadata": {
        "id": "8FzN34r3Idc7",
        "colab_type": "text"
      },
      "source": [
        "**Helper Function**\n",
        "\n",
        "get_data(size) --> This will create ImageDataBunch of the given size\n",
        "\n",
        "train_model(size, i) --> performs couples of operation neccessary to train the classifier"
      ]
    },
    {
      "cell_type": "code",
      "metadata": {
        "id": "abnTl9DZnp6_",
        "colab_type": "code",
        "colab": {}
      },
      "source": [
        "def get_data(size):\n",
        "  \n",
        "  \"\"\" Creates ImageDataBunch\n",
        "  \"\"\"\n",
        "  \n",
        "  data = ImageDataBunch.from_csv(path=\"data/\", folder=\"train\",\n",
        "                              csv_labels=\"train.csv\", test=\"test\",\n",
        "                              ds_tfms=get_transforms(), size=size, bs=32)\n",
        "  data.normalize(imagenet_stats)\n",
        "  return data"
      ],
      "execution_count": 0,
      "outputs": []
    },
    {
      "cell_type": "code",
      "metadata": {
        "id": "USlgTKs5QsNT",
        "colab_type": "code",
        "colab": {}
      },
      "source": [
        "def train_model(size, i):\n",
        "  \n",
        "  \"\"\" Training procedure\n",
        "  \"\"\"\n",
        "  \n",
        "  learn_50 = cnn_learner(get_data(size), models.resnet50, metrics=[error_rate, accuracy]).load('resnet50_'+str(size))\n",
        "  learn_50.fit_one_cycle(5*i)\n",
        "  learn_50.lr_find()\n",
        "  learn_50.recorder.plot()\n",
        "  learn_50.unfreeze()\n",
        "  learn_50.fit_one_cycle(2*i)\n",
        "  learn_50.save('resnet50_'+str(size))"
      ],
      "execution_count": 0,
      "outputs": []
    },
    {
      "cell_type": "markdown",
      "metadata": {
        "id": "0BfQconWTE1B",
        "colab_type": "text"
      },
      "source": [
        "**Training the model**\n",
        "\n",
        "first with 64x64 image size, then increasing the image size on top of the previous image size upto 512x512."
      ]
    },
    {
      "cell_type": "code",
      "metadata": {
        "id": "bxbPp_U-kYmW",
        "colab_type": "code",
        "colab": {
          "base_uri": "https://localhost:8080/",
          "height": 51
        },
        "outputId": "81da52db-b92d-4cbe-96db-f29e02f4da7b"
      },
      "source": [
        "learn_50 = cnn_learner(get_data(64), models.resnet50, metrics=[error_rate, accuracy])\n",
        "learn_50.save(\"resnet50_64\")\n",
        "learn_50 = cnn_learner(get_data(128), models.resnet50, metrics=[error_rate, accuracy]).load('resnet50_64')\n",
        "learn_50.save(\"resnet50_128\")\n",
        "learn_50 = cnn_learner(get_data(256), models.resnet50, metrics=[error_rate, accuracy]).load('resnet50_128')\n",
        "learn_50.save(\"resnet50_256\")\n",
        "learn_50 = cnn_learner(get_data(512), models.resnet50, metrics=[error_rate, accuracy]).load('resnet50_256')\n",
        "learn_50.save(\"resnet50_512\")"
      ],
      "execution_count": 12,
      "outputs": [
        {
          "output_type": "stream",
          "text": [
            "Downloading: \"https://download.pytorch.org/models/resnet50-19c8e357.pth\" to /root/.cache/torch/checkpoints/resnet50-19c8e357.pth\n",
            "100%|██████████| 102502400/102502400 [00:01<00:00, 91415276.10it/s]\n"
          ],
          "name": "stderr"
        }
      ]
    },
    {
      "cell_type": "code",
      "metadata": {
        "id": "kannIQB3t6MX",
        "colab_type": "code",
        "outputId": "795f2d78-714f-4271-d1b9-dbc5b4dabf11",
        "colab": {
          "base_uri": "https://localhost:8080/",
          "height": 581
        }
      },
      "source": [
        "train_model(64, 1)"
      ],
      "execution_count": 13,
      "outputs": [
        {
          "output_type": "display_data",
          "data": {
            "text/html": [
              "<table border=\"1\" class=\"dataframe\">\n",
              "  <thead>\n",
              "    <tr style=\"text-align: left;\">\n",
              "      <th>epoch</th>\n",
              "      <th>train_loss</th>\n",
              "      <th>valid_loss</th>\n",
              "      <th>error_rate</th>\n",
              "      <th>accuracy</th>\n",
              "      <th>time</th>\n",
              "    </tr>\n",
              "  </thead>\n",
              "  <tbody>\n",
              "    <tr>\n",
              "      <td>0</td>\n",
              "      <td>5.052313</td>\n",
              "      <td>4.350764</td>\n",
              "      <td>0.896192</td>\n",
              "      <td>0.103808</td>\n",
              "      <td>02:02</td>\n",
              "    </tr>\n",
              "    <tr>\n",
              "      <td>1</td>\n",
              "      <td>4.124435</td>\n",
              "      <td>3.496014</td>\n",
              "      <td>0.773956</td>\n",
              "      <td>0.226044</td>\n",
              "      <td>01:54</td>\n",
              "    </tr>\n",
              "    <tr>\n",
              "      <td>2</td>\n",
              "      <td>3.445970</td>\n",
              "      <td>2.989603</td>\n",
              "      <td>0.698403</td>\n",
              "      <td>0.301597</td>\n",
              "      <td>01:55</td>\n",
              "    </tr>\n",
              "    <tr>\n",
              "      <td>3</td>\n",
              "      <td>2.971145</td>\n",
              "      <td>2.678453</td>\n",
              "      <td>0.634521</td>\n",
              "      <td>0.365479</td>\n",
              "      <td>01:55</td>\n",
              "    </tr>\n",
              "    <tr>\n",
              "      <td>4</td>\n",
              "      <td>2.589403</td>\n",
              "      <td>2.632483</td>\n",
              "      <td>0.625307</td>\n",
              "      <td>0.374693</td>\n",
              "      <td>01:55</td>\n",
              "    </tr>\n",
              "  </tbody>\n",
              "</table>"
            ],
            "text/plain": [
              "<IPython.core.display.HTML object>"
            ]
          },
          "metadata": {
            "tags": []
          }
        },
        {
          "output_type": "display_data",
          "data": {
            "text/html": [
              ""
            ],
            "text/plain": [
              "<IPython.core.display.HTML object>"
            ]
          },
          "metadata": {
            "tags": []
          }
        },
        {
          "output_type": "stream",
          "text": [
            "LR Finder is complete, type {learner_name}.recorder.plot() to see the graph.\n"
          ],
          "name": "stdout"
        },
        {
          "output_type": "display_data",
          "data": {
            "text/html": [
              "<table border=\"1\" class=\"dataframe\">\n",
              "  <thead>\n",
              "    <tr style=\"text-align: left;\">\n",
              "      <th>epoch</th>\n",
              "      <th>train_loss</th>\n",
              "      <th>valid_loss</th>\n",
              "      <th>error_rate</th>\n",
              "      <th>accuracy</th>\n",
              "      <th>time</th>\n",
              "    </tr>\n",
              "  </thead>\n",
              "  <tbody>\n",
              "    <tr>\n",
              "      <td>0</td>\n",
              "      <td>3.126970</td>\n",
              "      <td>2.668636</td>\n",
              "      <td>0.657862</td>\n",
              "      <td>0.342138</td>\n",
              "      <td>01:58</td>\n",
              "    </tr>\n",
              "    <tr>\n",
              "      <td>1</td>\n",
              "      <td>2.018221</td>\n",
              "      <td>1.626520</td>\n",
              "      <td>0.442260</td>\n",
              "      <td>0.557740</td>\n",
              "      <td>01:58</td>\n",
              "    </tr>\n",
              "  </tbody>\n",
              "</table>"
            ],
            "text/plain": [
              "<IPython.core.display.HTML object>"
            ]
          },
          "metadata": {
            "tags": []
          }
        },
        {
          "output_type": "display_data",
          "data": {
            "image/png": "[encoded data removed]",
            "text/plain": [
              "<Figure size 432x288 with 1 Axes>"
            ]
          },
          "metadata": {
            "tags": []
          }
        }
      ]
    },
    {
      "cell_type": "code",
      "metadata": {
        "id": "M3LK1OaaRjEg",
        "colab_type": "code",
        "colab": {
          "base_uri": "https://localhost:8080/",
          "height": 798
        },
        "outputId": "04bbdc31-53ea-4805-aada-961773ae7c30"
      },
      "source": [
        "train_model(128, 2)"
      ],
      "execution_count": 14,
      "outputs": [
        {
          "output_type": "display_data",
          "data": {
            "text/html": [
              "<table border=\"1\" class=\"dataframe\">\n",
              "  <thead>\n",
              "    <tr style=\"text-align: left;\">\n",
              "      <th>epoch</th>\n",
              "      <th>train_loss</th>\n",
              "      <th>valid_loss</th>\n",
              "      <th>error_rate</th>\n",
              "      <th>accuracy</th>\n",
              "      <th>time</th>\n",
              "    </tr>\n",
              "  </thead>\n",
              "  <tbody>\n",
              "    <tr>\n",
              "      <td>0</td>\n",
              "      <td>5.295947</td>\n",
              "      <td>4.683789</td>\n",
              "      <td>0.932432</td>\n",
              "      <td>0.067568</td>\n",
              "      <td>01:53</td>\n",
              "    </tr>\n",
              "    <tr>\n",
              "      <td>1</td>\n",
              "      <td>4.433463</td>\n",
              "      <td>3.958615</td>\n",
              "      <td>0.852580</td>\n",
              "      <td>0.147420</td>\n",
              "      <td>01:54</td>\n",
              "    </tr>\n",
              "    <tr>\n",
              "      <td>2</td>\n",
              "      <td>3.852269</td>\n",
              "      <td>3.395504</td>\n",
              "      <td>0.770885</td>\n",
              "      <td>0.229115</td>\n",
              "      <td>01:54</td>\n",
              "    </tr>\n",
              "    <tr>\n",
              "      <td>3</td>\n",
              "      <td>3.301471</td>\n",
              "      <td>2.877181</td>\n",
              "      <td>0.681818</td>\n",
              "      <td>0.318182</td>\n",
              "      <td>01:54</td>\n",
              "    </tr>\n",
              "    <tr>\n",
              "      <td>4</td>\n",
              "      <td>2.915134</td>\n",
              "      <td>2.614899</td>\n",
              "      <td>0.650491</td>\n",
              "      <td>0.349509</td>\n",
              "      <td>01:54</td>\n",
              "    </tr>\n",
              "    <tr>\n",
              "      <td>5</td>\n",
              "      <td>2.565059</td>\n",
              "      <td>2.355344</td>\n",
              "      <td>0.597052</td>\n",
              "      <td>0.402948</td>\n",
              "      <td>01:54</td>\n",
              "    </tr>\n",
              "    <tr>\n",
              "      <td>6</td>\n",
              "      <td>2.275221</td>\n",
              "      <td>2.171326</td>\n",
              "      <td>0.545455</td>\n",
              "      <td>0.454545</td>\n",
              "      <td>01:54</td>\n",
              "    </tr>\n",
              "    <tr>\n",
              "      <td>7</td>\n",
              "      <td>2.081290</td>\n",
              "      <td>2.060456</td>\n",
              "      <td>0.520270</td>\n",
              "      <td>0.479730</td>\n",
              "      <td>01:54</td>\n",
              "    </tr>\n",
              "    <tr>\n",
              "      <td>8</td>\n",
              "      <td>1.916876</td>\n",
              "      <td>2.009827</td>\n",
              "      <td>0.510442</td>\n",
              "      <td>0.489558</td>\n",
              "      <td>01:54</td>\n",
              "    </tr>\n",
              "    <tr>\n",
              "      <td>9</td>\n",
              "      <td>1.841826</td>\n",
              "      <td>2.002174</td>\n",
              "      <td>0.505528</td>\n",
              "      <td>0.494472</td>\n",
              "      <td>01:55</td>\n",
              "    </tr>\n",
              "  </tbody>\n",
              "</table>"
            ],
            "text/plain": [
              "<IPython.core.display.HTML object>"
            ]
          },
          "metadata": {
            "tags": []
          }
        },
        {
          "output_type": "display_data",
          "data": {
            "text/html": [
              ""
            ],
            "text/plain": [
              "<IPython.core.display.HTML object>"
            ]
          },
          "metadata": {
            "tags": []
          }
        },
        {
          "output_type": "stream",
          "text": [
            "LR Finder is complete, type {learner_name}.recorder.plot() to see the graph.\n"
          ],
          "name": "stdout"
        },
        {
          "output_type": "display_data",
          "data": {
            "text/html": [
              "<table border=\"1\" class=\"dataframe\">\n",
              "  <thead>\n",
              "    <tr style=\"text-align: left;\">\n",
              "      <th>epoch</th>\n",
              "      <th>train_loss</th>\n",
              "      <th>valid_loss</th>\n",
              "      <th>error_rate</th>\n",
              "      <th>accuracy</th>\n",
              "      <th>time</th>\n",
              "    </tr>\n",
              "  </thead>\n",
              "  <tbody>\n",
              "    <tr>\n",
              "      <td>0</td>\n",
              "      <td>2.584169</td>\n",
              "      <td>2.622282</td>\n",
              "      <td>0.646806</td>\n",
              "      <td>0.353194</td>\n",
              "      <td>01:58</td>\n",
              "    </tr>\n",
              "    <tr>\n",
              "      <td>1</td>\n",
              "      <td>2.467583</td>\n",
              "      <td>1.966666</td>\n",
              "      <td>0.509214</td>\n",
              "      <td>0.490786</td>\n",
              "      <td>01:58</td>\n",
              "    </tr>\n",
              "    <tr>\n",
              "      <td>2</td>\n",
              "      <td>1.597452</td>\n",
              "      <td>1.247243</td>\n",
              "      <td>0.340909</td>\n",
              "      <td>0.659091</td>\n",
              "      <td>01:59</td>\n",
              "    </tr>\n",
              "    <tr>\n",
              "      <td>3</td>\n",
              "      <td>0.991305</td>\n",
              "      <td>1.045345</td>\n",
              "      <td>0.280713</td>\n",
              "      <td>0.719287</td>\n",
              "      <td>01:57</td>\n",
              "    </tr>\n",
              "  </tbody>\n",
              "</table>"
            ],
            "text/plain": [
              "<IPython.core.display.HTML object>"
            ]
          },
          "metadata": {
            "tags": []
          }
        },
        {
          "output_type": "display_data",
          "data": {
            "image/png": "[encoded data removed]",
            "text/plain": [
              "<Figure size 432x288 with 1 Axes>"
            ]
          },
          "metadata": {
            "tags": []
          }
        }
      ]
    },
    {
      "cell_type": "code",
      "metadata": {
        "id": "Wljxf121RiyL",
        "colab_type": "code",
        "colab": {
          "base_uri": "https://localhost:8080/",
          "height": 1015
        },
        "outputId": "48192e5c-6cbf-44c7-9f74-fbe4f960a23a"
      },
      "source": [
        "train_model(256, 3)"
      ],
      "execution_count": 15,
      "outputs": [
        {
          "output_type": "display_data",
          "data": {
            "text/html": [
              "<table border=\"1\" class=\"dataframe\">\n",
              "  <thead>\n",
              "    <tr style=\"text-align: left;\">\n",
              "      <th>epoch</th>\n",
              "      <th>train_loss</th>\n",
              "      <th>valid_loss</th>\n",
              "      <th>error_rate</th>\n",
              "      <th>accuracy</th>\n",
              "      <th>time</th>\n",
              "    </tr>\n",
              "  </thead>\n",
              "  <tbody>\n",
              "    <tr>\n",
              "      <td>0</td>\n",
              "      <td>5.427066</td>\n",
              "      <td>4.806027</td>\n",
              "      <td>0.939803</td>\n",
              "      <td>0.060197</td>\n",
              "      <td>01:54</td>\n",
              "    </tr>\n",
              "    <tr>\n",
              "      <td>1</td>\n",
              "      <td>4.628577</td>\n",
              "      <td>4.106707</td>\n",
              "      <td>0.859337</td>\n",
              "      <td>0.140663</td>\n",
              "      <td>01:55</td>\n",
              "    </tr>\n",
              "    <tr>\n",
              "      <td>2</td>\n",
              "      <td>4.041139</td>\n",
              "      <td>3.533959</td>\n",
              "      <td>0.788084</td>\n",
              "      <td>0.211916</td>\n",
              "      <td>01:55</td>\n",
              "    </tr>\n",
              "    <tr>\n",
              "      <td>3</td>\n",
              "      <td>3.614119</td>\n",
              "      <td>3.093026</td>\n",
              "      <td>0.725430</td>\n",
              "      <td>0.274570</td>\n",
              "      <td>01:54</td>\n",
              "    </tr>\n",
              "    <tr>\n",
              "      <td>4</td>\n",
              "      <td>3.181630</td>\n",
              "      <td>2.753568</td>\n",
              "      <td>0.672604</td>\n",
              "      <td>0.327396</td>\n",
              "      <td>01:54</td>\n",
              "    </tr>\n",
              "    <tr>\n",
              "      <td>5</td>\n",
              "      <td>2.833230</td>\n",
              "      <td>2.478021</td>\n",
              "      <td>0.608722</td>\n",
              "      <td>0.391278</td>\n",
              "      <td>01:54</td>\n",
              "    </tr>\n",
              "    <tr>\n",
              "      <td>6</td>\n",
              "      <td>2.498350</td>\n",
              "      <td>2.300645</td>\n",
              "      <td>0.568796</td>\n",
              "      <td>0.431204</td>\n",
              "      <td>01:54</td>\n",
              "    </tr>\n",
              "    <tr>\n",
              "      <td>7</td>\n",
              "      <td>2.244207</td>\n",
              "      <td>2.109787</td>\n",
              "      <td>0.528256</td>\n",
              "      <td>0.471744</td>\n",
              "      <td>01:55</td>\n",
              "    </tr>\n",
              "    <tr>\n",
              "      <td>8</td>\n",
              "      <td>2.105837</td>\n",
              "      <td>1.978475</td>\n",
              "      <td>0.490172</td>\n",
              "      <td>0.509828</td>\n",
              "      <td>01:55</td>\n",
              "    </tr>\n",
              "    <tr>\n",
              "      <td>9</td>\n",
              "      <td>1.889432</td>\n",
              "      <td>1.884132</td>\n",
              "      <td>0.471744</td>\n",
              "      <td>0.528256</td>\n",
              "      <td>01:55</td>\n",
              "    </tr>\n",
              "    <tr>\n",
              "      <td>10</td>\n",
              "      <td>1.736381</td>\n",
              "      <td>1.799758</td>\n",
              "      <td>0.444717</td>\n",
              "      <td>0.555283</td>\n",
              "      <td>01:55</td>\n",
              "    </tr>\n",
              "    <tr>\n",
              "      <td>11</td>\n",
              "      <td>1.618128</td>\n",
              "      <td>1.757159</td>\n",
              "      <td>0.449631</td>\n",
              "      <td>0.550369</td>\n",
              "      <td>01:55</td>\n",
              "    </tr>\n",
              "    <tr>\n",
              "      <td>12</td>\n",
              "      <td>1.538611</td>\n",
              "      <td>1.726358</td>\n",
              "      <td>0.431204</td>\n",
              "      <td>0.568796</td>\n",
              "      <td>01:55</td>\n",
              "    </tr>\n",
              "    <tr>\n",
              "      <td>13</td>\n",
              "      <td>1.469272</td>\n",
              "      <td>1.704412</td>\n",
              "      <td>0.431204</td>\n",
              "      <td>0.568796</td>\n",
              "      <td>01:54</td>\n",
              "    </tr>\n",
              "    <tr>\n",
              "      <td>14</td>\n",
              "      <td>1.384448</td>\n",
              "      <td>1.696604</td>\n",
              "      <td>0.420762</td>\n",
              "      <td>0.579238</td>\n",
              "      <td>01:54</td>\n",
              "    </tr>\n",
              "  </tbody>\n",
              "</table>"
            ],
            "text/plain": [
              "<IPython.core.display.HTML object>"
            ]
          },
          "metadata": {
            "tags": []
          }
        },
        {
          "output_type": "display_data",
          "data": {
            "text/html": [
              ""
            ],
            "text/plain": [
              "<IPython.core.display.HTML object>"
            ]
          },
          "metadata": {
            "tags": []
          }
        },
        {
          "output_type": "stream",
          "text": [
            "LR Finder is complete, type {learner_name}.recorder.plot() to see the graph.\n"
          ],
          "name": "stdout"
        },
        {
          "output_type": "display_data",
          "data": {
            "text/html": [
              "<table border=\"1\" class=\"dataframe\">\n",
              "  <thead>\n",
              "    <tr style=\"text-align: left;\">\n",
              "      <th>epoch</th>\n",
              "      <th>train_loss</th>\n",
              "      <th>valid_loss</th>\n",
              "      <th>error_rate</th>\n",
              "      <th>accuracy</th>\n",
              "      <th>time</th>\n",
              "    </tr>\n",
              "  </thead>\n",
              "  <tbody>\n",
              "    <tr>\n",
              "      <td>0</td>\n",
              "      <td>1.836649</td>\n",
              "      <td>2.084949</td>\n",
              "      <td>0.517199</td>\n",
              "      <td>0.482801</td>\n",
              "      <td>02:00</td>\n",
              "    </tr>\n",
              "    <tr>\n",
              "      <td>1</td>\n",
              "      <td>2.450856</td>\n",
              "      <td>2.200350</td>\n",
              "      <td>0.572482</td>\n",
              "      <td>0.427518</td>\n",
              "      <td>01:59</td>\n",
              "    </tr>\n",
              "    <tr>\n",
              "      <td>2</td>\n",
              "      <td>1.984713</td>\n",
              "      <td>1.645686</td>\n",
              "      <td>0.442875</td>\n",
              "      <td>0.557125</td>\n",
              "      <td>02:00</td>\n",
              "    </tr>\n",
              "    <tr>\n",
              "      <td>3</td>\n",
              "      <td>1.426413</td>\n",
              "      <td>1.206045</td>\n",
              "      <td>0.331695</td>\n",
              "      <td>0.668305</td>\n",
              "      <td>01:59</td>\n",
              "    </tr>\n",
              "    <tr>\n",
              "      <td>4</td>\n",
              "      <td>0.886395</td>\n",
              "      <td>0.923982</td>\n",
              "      <td>0.249386</td>\n",
              "      <td>0.750614</td>\n",
              "      <td>01:59</td>\n",
              "    </tr>\n",
              "    <tr>\n",
              "      <td>5</td>\n",
              "      <td>0.648217</td>\n",
              "      <td>0.877700</td>\n",
              "      <td>0.245700</td>\n",
              "      <td>0.754300</td>\n",
              "      <td>01:59</td>\n",
              "    </tr>\n",
              "  </tbody>\n",
              "</table>"
            ],
            "text/plain": [
              "<IPython.core.display.HTML object>"
            ]
          },
          "metadata": {
            "tags": []
          }
        },
        {
          "output_type": "display_data",
          "data": {
            "image/png": "[encoded data removed]",
            "text/plain": [
              "<Figure size 432x288 with 1 Axes>"
            ]
          },
          "metadata": {
            "tags": []
          }
        }
      ]
    },
    {
      "cell_type": "code",
      "metadata": {
        "id": "YTkBLp8Pt-RR",
        "colab_type": "code",
        "outputId": "0f9d0668-0d77-4d08-96ef-272febf449f3",
        "colab": {
          "base_uri": "https://localhost:8080/",
          "height": 1232
        }
      },
      "source": [
        "train_model(512, 4)"
      ],
      "execution_count": 16,
      "outputs": [
        {
          "output_type": "display_data",
          "data": {
            "text/html": [
              "<table border=\"1\" class=\"dataframe\">\n",
              "  <thead>\n",
              "    <tr style=\"text-align: left;\">\n",
              "      <th>epoch</th>\n",
              "      <th>train_loss</th>\n",
              "      <th>valid_loss</th>\n",
              "      <th>error_rate</th>\n",
              "      <th>accuracy</th>\n",
              "      <th>time</th>\n",
              "    </tr>\n",
              "  </thead>\n",
              "  <tbody>\n",
              "    <tr>\n",
              "      <td>0</td>\n",
              "      <td>5.484972</td>\n",
              "      <td>4.909328</td>\n",
              "      <td>0.946560</td>\n",
              "      <td>0.053440</td>\n",
              "      <td>01:56</td>\n",
              "    </tr>\n",
              "    <tr>\n",
              "      <td>1</td>\n",
              "      <td>4.776360</td>\n",
              "      <td>4.221008</td>\n",
              "      <td>0.874079</td>\n",
              "      <td>0.125921</td>\n",
              "      <td>01:55</td>\n",
              "    </tr>\n",
              "    <tr>\n",
              "      <td>2</td>\n",
              "      <td>4.151571</td>\n",
              "      <td>3.676981</td>\n",
              "      <td>0.790541</td>\n",
              "      <td>0.209459</td>\n",
              "      <td>01:55</td>\n",
              "    </tr>\n",
              "    <tr>\n",
              "      <td>3</td>\n",
              "      <td>3.724185</td>\n",
              "      <td>3.240266</td>\n",
              "      <td>0.738944</td>\n",
              "      <td>0.261057</td>\n",
              "      <td>01:54</td>\n",
              "    </tr>\n",
              "    <tr>\n",
              "      <td>4</td>\n",
              "      <td>3.291137</td>\n",
              "      <td>2.886745</td>\n",
              "      <td>0.688575</td>\n",
              "      <td>0.311425</td>\n",
              "      <td>01:55</td>\n",
              "    </tr>\n",
              "    <tr>\n",
              "      <td>5</td>\n",
              "      <td>3.042728</td>\n",
              "      <td>2.574174</td>\n",
              "      <td>0.625307</td>\n",
              "      <td>0.374693</td>\n",
              "      <td>01:54</td>\n",
              "    </tr>\n",
              "    <tr>\n",
              "      <td>6</td>\n",
              "      <td>2.758306</td>\n",
              "      <td>2.321647</td>\n",
              "      <td>0.578624</td>\n",
              "      <td>0.421376</td>\n",
              "      <td>01:54</td>\n",
              "    </tr>\n",
              "    <tr>\n",
              "      <td>7</td>\n",
              "      <td>2.477020</td>\n",
              "      <td>2.141530</td>\n",
              "      <td>0.537469</td>\n",
              "      <td>0.462531</td>\n",
              "      <td>01:54</td>\n",
              "    </tr>\n",
              "    <tr>\n",
              "      <td>8</td>\n",
              "      <td>2.330515</td>\n",
              "      <td>2.032857</td>\n",
              "      <td>0.516585</td>\n",
              "      <td>0.483415</td>\n",
              "      <td>01:56</td>\n",
              "    </tr>\n",
              "    <tr>\n",
              "      <td>9</td>\n",
              "      <td>2.138284</td>\n",
              "      <td>1.911215</td>\n",
              "      <td>0.482801</td>\n",
              "      <td>0.517199</td>\n",
              "      <td>01:55</td>\n",
              "    </tr>\n",
              "    <tr>\n",
              "      <td>10</td>\n",
              "      <td>2.006791</td>\n",
              "      <td>1.794535</td>\n",
              "      <td>0.484644</td>\n",
              "      <td>0.515356</td>\n",
              "      <td>01:55</td>\n",
              "    </tr>\n",
              "    <tr>\n",
              "      <td>11</td>\n",
              "      <td>1.782821</td>\n",
              "      <td>1.718928</td>\n",
              "      <td>0.444717</td>\n",
              "      <td>0.555283</td>\n",
              "      <td>01:54</td>\n",
              "    </tr>\n",
              "    <tr>\n",
              "      <td>12</td>\n",
              "      <td>1.692272</td>\n",
              "      <td>1.627216</td>\n",
              "      <td>0.426904</td>\n",
              "      <td>0.573096</td>\n",
              "      <td>01:54</td>\n",
              "    </tr>\n",
              "    <tr>\n",
              "      <td>13</td>\n",
              "      <td>1.601255</td>\n",
              "      <td>1.585495</td>\n",
              "      <td>0.418305</td>\n",
              "      <td>0.581695</td>\n",
              "      <td>01:55</td>\n",
              "    </tr>\n",
              "    <tr>\n",
              "      <td>14</td>\n",
              "      <td>1.515449</td>\n",
              "      <td>1.519167</td>\n",
              "      <td>0.412162</td>\n",
              "      <td>0.587838</td>\n",
              "      <td>01:54</td>\n",
              "    </tr>\n",
              "    <tr>\n",
              "      <td>15</td>\n",
              "      <td>1.367290</td>\n",
              "      <td>1.484214</td>\n",
              "      <td>0.396806</td>\n",
              "      <td>0.603194</td>\n",
              "      <td>01:54</td>\n",
              "    </tr>\n",
              "    <tr>\n",
              "      <td>16</td>\n",
              "      <td>1.312337</td>\n",
              "      <td>1.466112</td>\n",
              "      <td>0.396192</td>\n",
              "      <td>0.603808</td>\n",
              "      <td>01:55</td>\n",
              "    </tr>\n",
              "    <tr>\n",
              "      <td>17</td>\n",
              "      <td>1.299579</td>\n",
              "      <td>1.449214</td>\n",
              "      <td>0.388821</td>\n",
              "      <td>0.611179</td>\n",
              "      <td>01:55</td>\n",
              "    </tr>\n",
              "    <tr>\n",
              "      <td>18</td>\n",
              "      <td>1.238756</td>\n",
              "      <td>1.439517</td>\n",
              "      <td>0.386364</td>\n",
              "      <td>0.613636</td>\n",
              "      <td>01:54</td>\n",
              "    </tr>\n",
              "    <tr>\n",
              "      <td>19</td>\n",
              "      <td>1.239975</td>\n",
              "      <td>1.436037</td>\n",
              "      <td>0.389435</td>\n",
              "      <td>0.610565</td>\n",
              "      <td>01:56</td>\n",
              "    </tr>\n",
              "  </tbody>\n",
              "</table>"
            ],
            "text/plain": [
              "<IPython.core.display.HTML object>"
            ]
          },
          "metadata": {
            "tags": []
          }
        },
        {
          "output_type": "display_data",
          "data": {
            "text/html": [
              ""
            ],
            "text/plain": [
              "<IPython.core.display.HTML object>"
            ]
          },
          "metadata": {
            "tags": []
          }
        },
        {
          "output_type": "stream",
          "text": [
            "LR Finder is complete, type {learner_name}.recorder.plot() to see the graph.\n"
          ],
          "name": "stdout"
        },
        {
          "output_type": "display_data",
          "data": {
            "text/html": [
              "<table border=\"1\" class=\"dataframe\">\n",
              "  <thead>\n",
              "    <tr style=\"text-align: left;\">\n",
              "      <th>epoch</th>\n",
              "      <th>train_loss</th>\n",
              "      <th>valid_loss</th>\n",
              "      <th>error_rate</th>\n",
              "      <th>accuracy</th>\n",
              "      <th>time</th>\n",
              "    </tr>\n",
              "  </thead>\n",
              "  <tbody>\n",
              "    <tr>\n",
              "      <td>0</td>\n",
              "      <td>1.423700</td>\n",
              "      <td>1.559031</td>\n",
              "      <td>0.412162</td>\n",
              "      <td>0.587838</td>\n",
              "      <td>01:59</td>\n",
              "    </tr>\n",
              "    <tr>\n",
              "      <td>1</td>\n",
              "      <td>2.275425</td>\n",
              "      <td>2.228308</td>\n",
              "      <td>0.558968</td>\n",
              "      <td>0.441032</td>\n",
              "      <td>01:59</td>\n",
              "    </tr>\n",
              "    <tr>\n",
              "      <td>2</td>\n",
              "      <td>2.202275</td>\n",
              "      <td>1.726194</td>\n",
              "      <td>0.471130</td>\n",
              "      <td>0.528870</td>\n",
              "      <td>01:59</td>\n",
              "    </tr>\n",
              "    <tr>\n",
              "      <td>3</td>\n",
              "      <td>1.667832</td>\n",
              "      <td>1.488464</td>\n",
              "      <td>0.406020</td>\n",
              "      <td>0.593980</td>\n",
              "      <td>02:00</td>\n",
              "    </tr>\n",
              "    <tr>\n",
              "      <td>4</td>\n",
              "      <td>1.221439</td>\n",
              "      <td>1.071108</td>\n",
              "      <td>0.299754</td>\n",
              "      <td>0.700246</td>\n",
              "      <td>01:58</td>\n",
              "    </tr>\n",
              "    <tr>\n",
              "      <td>5</td>\n",
              "      <td>0.843374</td>\n",
              "      <td>0.828841</td>\n",
              "      <td>0.232187</td>\n",
              "      <td>0.767813</td>\n",
              "      <td>01:59</td>\n",
              "    </tr>\n",
              "    <tr>\n",
              "      <td>6</td>\n",
              "      <td>0.608528</td>\n",
              "      <td>0.692664</td>\n",
              "      <td>0.199017</td>\n",
              "      <td>0.800983</td>\n",
              "      <td>01:58</td>\n",
              "    </tr>\n",
              "    <tr>\n",
              "      <td>7</td>\n",
              "      <td>0.434634</td>\n",
              "      <td>0.678000</td>\n",
              "      <td>0.190418</td>\n",
              "      <td>0.809582</td>\n",
              "      <td>01:59</td>\n",
              "    </tr>\n",
              "  </tbody>\n",
              "</table>"
            ],
            "text/plain": [
              "<IPython.core.display.HTML object>"
            ]
          },
          "metadata": {
            "tags": []
          }
        },
        {
          "output_type": "display_data",
          "data": {
            "image/png": "[encoded data removed]",
            "text/plain": [
              "<Figure size 432x288 with 1 Axes>"
            ]
          },
          "metadata": {
            "tags": []
          }
        }
      ]
    },
    {
      "cell_type": "code",
      "metadata": {
        "id": "WA2WxirOK2S5",
        "colab_type": "code",
        "colab": {
          "base_uri": "https://localhost:8080/",
          "height": 255
        },
        "outputId": "d145ffa8-cd14-4277-a49d-1a0e2fedac65"
      },
      "source": [
        "learn_50 = cnn_learner(get_data(256), models.resnet50, metrics=[error_rate, accuracy],\n",
        "                      callbacks=[SaveModelCallback(learn_50, every='improvement',\n",
        "                                                   monitor='accuracy', name='best_256')]).load('resnet50_128')\n",
        "\n",
        "learn_50.fit_one_cycle(5)"
      ],
      "execution_count": 18,
      "outputs": [
        {
          "output_type": "display_data",
          "data": {
            "text/html": [
              "<table border=\"1\" class=\"dataframe\">\n",
              "  <thead>\n",
              "    <tr style=\"text-align: left;\">\n",
              "      <th>epoch</th>\n",
              "      <th>train_loss</th>\n",
              "      <th>valid_loss</th>\n",
              "      <th>error_rate</th>\n",
              "      <th>accuracy</th>\n",
              "      <th>time</th>\n",
              "    </tr>\n",
              "  </thead>\n",
              "  <tbody>\n",
              "    <tr>\n",
              "      <td>0</td>\n",
              "      <td>1.053486</td>\n",
              "      <td>0.579820</td>\n",
              "      <td>0.167076</td>\n",
              "      <td>0.832924</td>\n",
              "      <td>01:54</td>\n",
              "    </tr>\n",
              "    <tr>\n",
              "      <td>1</td>\n",
              "      <td>1.171697</td>\n",
              "      <td>0.637224</td>\n",
              "      <td>0.192875</td>\n",
              "      <td>0.807125</td>\n",
              "      <td>01:54</td>\n",
              "    </tr>\n",
              "    <tr>\n",
              "      <td>2</td>\n",
              "      <td>1.009386</td>\n",
              "      <td>0.584632</td>\n",
              "      <td>0.171990</td>\n",
              "      <td>0.828010</td>\n",
              "      <td>01:54</td>\n",
              "    </tr>\n",
              "    <tr>\n",
              "      <td>3</td>\n",
              "      <td>0.783432</td>\n",
              "      <td>0.521231</td>\n",
              "      <td>0.162162</td>\n",
              "      <td>0.837838</td>\n",
              "      <td>01:54</td>\n",
              "    </tr>\n",
              "    <tr>\n",
              "      <td>4</td>\n",
              "      <td>0.740609</td>\n",
              "      <td>0.503757</td>\n",
              "      <td>0.152334</td>\n",
              "      <td>0.847666</td>\n",
              "      <td>01:54</td>\n",
              "    </tr>\n",
              "  </tbody>\n",
              "</table>"
            ],
            "text/plain": [
              "<IPython.core.display.HTML object>"
            ]
          },
          "metadata": {
            "tags": []
          }
        },
        {
          "output_type": "stream",
          "text": [
            "Better model found at epoch 0 with accuracy value: 0.8329238295555115.\n",
            "Better model found at epoch 3 with accuracy value: 0.837837815284729.\n",
            "Better model found at epoch 4 with accuracy value: 0.8476658463478088.\n"
          ],
          "name": "stdout"
        }
      ]
    },
    {
      "cell_type": "code",
      "metadata": {
        "id": "6pFysC0My3uL",
        "colab_type": "code",
        "outputId": "45c81b93-faee-4cb1-b019-5c6657dd0426",
        "colab": {
          "base_uri": "https://localhost:8080/",
          "height": 221
        }
      },
      "source": [
        "learn_50 = cnn_learner(get_data(512), models.resnet50, metrics=[error_rate, accuracy],\n",
        "                      callbacks=[SaveModelCallback(learn_50, every='improvement',\n",
        "                                                   monitor='accuracy', name='best_512')]).load('best_256')\n",
        "\n",
        "learn_50.fit_one_cycle(5)"
      ],
      "execution_count": 19,
      "outputs": [
        {
          "output_type": "display_data",
          "data": {
            "text/html": [
              "<table border=\"1\" class=\"dataframe\">\n",
              "  <thead>\n",
              "    <tr style=\"text-align: left;\">\n",
              "      <th>epoch</th>\n",
              "      <th>train_loss</th>\n",
              "      <th>valid_loss</th>\n",
              "      <th>error_rate</th>\n",
              "      <th>accuracy</th>\n",
              "      <th>time</th>\n",
              "    </tr>\n",
              "  </thead>\n",
              "  <tbody>\n",
              "    <tr>\n",
              "      <td>0</td>\n",
              "      <td>0.807310</td>\n",
              "      <td>0.375301</td>\n",
              "      <td>0.101351</td>\n",
              "      <td>0.898649</td>\n",
              "      <td>01:54</td>\n",
              "    </tr>\n",
              "    <tr>\n",
              "      <td>1</td>\n",
              "      <td>0.972707</td>\n",
              "      <td>0.479386</td>\n",
              "      <td>0.136364</td>\n",
              "      <td>0.863636</td>\n",
              "      <td>01:53</td>\n",
              "    </tr>\n",
              "    <tr>\n",
              "      <td>2</td>\n",
              "      <td>0.824283</td>\n",
              "      <td>0.467318</td>\n",
              "      <td>0.140049</td>\n",
              "      <td>0.859951</td>\n",
              "      <td>01:54</td>\n",
              "    </tr>\n",
              "    <tr>\n",
              "      <td>3</td>\n",
              "      <td>0.781377</td>\n",
              "      <td>0.424629</td>\n",
              "      <td>0.119165</td>\n",
              "      <td>0.880835</td>\n",
              "      <td>01:54</td>\n",
              "    </tr>\n",
              "    <tr>\n",
              "      <td>4</td>\n",
              "      <td>0.670072</td>\n",
              "      <td>0.422577</td>\n",
              "      <td>0.123464</td>\n",
              "      <td>0.876536</td>\n",
              "      <td>01:52</td>\n",
              "    </tr>\n",
              "  </tbody>\n",
              "</table>"
            ],
            "text/plain": [
              "<IPython.core.display.HTML object>"
            ]
          },
          "metadata": {
            "tags": []
          }
        },
        {
          "output_type": "stream",
          "text": [
            "Better model found at epoch 0 with accuracy value: 0.8986486196517944.\n"
          ],
          "name": "stdout"
        }
      ]
    },
    {
      "cell_type": "code",
      "metadata": {
        "id": "wU5nHB4rLXyL",
        "colab_type": "code",
        "colab": {}
      },
      "source": [
        "learn_50.load('best_512')\n",
        "log_preds, test_labels = learn_50.get_preds(ds_type=DatasetType.Test)"
      ],
      "execution_count": 0,
      "outputs": []
    },
    {
      "cell_type": "markdown",
      "metadata": {
        "id": "8aiLh2o5Nlug",
        "colab_type": "text"
      },
      "source": [
        "**Prediction for the test dataset**"
      ]
    },
    {
      "cell_type": "code",
      "metadata": {
        "id": "uTsb4u6nLsLu",
        "colab_type": "code",
        "colab": {
          "base_uri": "https://localhost:8080/",
          "height": 34
        },
        "outputId": "a4717178-ca6f-4d29-b792-a626b4ab513a"
      },
      "source": [
        "preds = np.argmax(log_preds, 1)\n",
        "preds"
      ],
      "execution_count": 25,
      "outputs": [
        {
          "output_type": "execute_result",
          "data": {
            "text/plain": [
              "tensor([  6, 187,  70,  ..., 142, 151,  39])"
            ]
          },
          "metadata": {
            "tags": []
          },
          "execution_count": 25
        }
      ]
    },
    {
      "cell_type": "code",
      "metadata": {
        "id": "MygUbsuSLStY",
        "colab_type": "code",
        "colab": {}
      },
      "source": [
        ""
      ],
      "execution_count": 0,
      "outputs": []
    }
  ]
}